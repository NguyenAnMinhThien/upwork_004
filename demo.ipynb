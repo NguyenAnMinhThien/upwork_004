{
 "cells": [
  {
   "cell_type": "code",
   "id": "initial_id",
   "metadata": {
    "collapsed": true,
    "ExecuteTime": {
     "end_time": "2025-04-11T23:54:58.157252Z",
     "start_time": "2025-04-11T23:54:55.633367Z"
    }
   },
   "source": [
    "import datetime\n",
    "from selenium.webdriver.common.by import By\n",
    "import undetected_chromedriver as uc\n"
   ],
   "outputs": [],
   "execution_count": 1
  },
  {
   "metadata": {},
   "cell_type": "code",
   "source": "",
   "id": "223e54b111507bc8",
   "outputs": [],
   "execution_count": null
  },
  {
   "metadata": {
    "ExecuteTime": {
     "end_time": "2025-04-11T23:55:09.875149Z",
     "start_time": "2025-04-11T23:55:05.141222Z"
    }
   },
   "cell_type": "code",
   "source": [
    "url_espn = 'https://www.espn.com/mlb/schedule/_/date/'\n",
    "\n",
    "current = datetime.datetime.now()\n",
    "current_date = current.strftime(\"%Y\") + current.strftime(\"%m\") + current.strftime(\"%d\")\n",
    "tomorrow_date =  current.strftime(\"%Y\") + current.strftime(\"%m\") +str(int(current.strftime(\"%d\"))+1)\n",
    "current_espn = url_espn + current_date\n",
    "tomorrow_espn= url_espn + tomorrow_date\n",
    "# options = ChromeOptions()\n",
    "# options.add_argument('--incognito')\n",
    "# driver = uc.Chrome(options)\n",
    "driver = uc.Chrome()\n",
    "driver.get(current_espn)\n"
   ],
   "id": "d171a0b596b77dd9",
   "outputs": [],
   "execution_count": 2
  },
  {
   "metadata": {},
   "cell_type": "code",
   "source": [
    "tomorrow_schedule = driver.find_element(By.CLASS_NAME,\"ResponsiveTable\")\n",
    "tomorrow_schedules = driver.find_elements(By.CLASS_NAME,\"ResponsiveTable\")\n",
    "\n",
    "table = tomorrow_schedules[1].find_element(By.TAG_NAME,\"table\").find_element(By.TAG_NAME,\"tbody\")\n",
    "matchups = table.find_elements(By.TAG_NAME,\"tr\")\n",
    "for tr in matchups:\n",
    "    # time = .find_element(By.CLASS_NAME,\"date__col\").text)\n",
    "    link_game = (tr.find_element(By.CLASS_NAME,\"date__col\").find_element(By.TAG_NAME,\"a\").get_attribute(\"href\"))\n",
    "    driver.switch_to.new_window(\"new_tab\")\n",
    "    driver.get(link_game)\n",
    "    espn_new = driver.find_element(By.CLASS_NAME,\"PageLayout__Main\").find_element(By.TAG_NAME,\"section\").text.split(\"\\n\")\n",
    "    import re\n",
    "    series = [2,7,8,16,17]\n",
    "    espn_final = list()\n",
    "    for serie in series:\n",
    "        espn_final.append(re.sub('\\(.*\\)','',espn_new[serie]))\n",
    "print(espn_final)"
   ],
   "id": "76aa5cd5933a9ca7",
   "outputs": [],
   "execution_count": null
  },
  {
   "metadata": {
    "ExecuteTime": {
     "end_time": "2025-04-12T00:54:37.797316Z",
     "start_time": "2025-04-12T00:54:36.911910Z"
    }
   },
   "cell_type": "code",
   "source": [
    "\n",
    "driver.switch_to.new_window(\"new_tab\")\n",
    "driver.get('https://www.mlb.com/standings/mlb')\n",
    "\n",
    "\n",
    "# print(driver.find_element(By.CLASS_NAME,\"tablestyle__TableScroller-sc-wsl6eq-1\").text)\n",
    "# print(driver.find_element(By.XPATH,'//div[class=\"tablestyle__TableScroller-sc-wsl6eq-1\"]').text)\n",
    "rank_data = (driver.find_element(By.ID,\"standings-app-root\").text.split(\"\\n\"))\n",
    "toggle = 0\n",
    "rank_list = list()\n",
    "for rank_maybe in rank_data:\n",
    "    if rank_maybe.__contains__('TEAM W L PCT GB'):\n",
    "        print(\"start from here\")\n",
    "        toggle = 1\n",
    "        continue\n",
    "    if toggle == 1 and (re.search(\"\\d\",rank_maybe)) == None and rank_maybe.strip() != '':\n",
    "        rank_list.append(rank_maybe)\n",
    "\n",
    "print(rank_list)\n",
    "# return rank_list, with each specific team name, will get the rank for each of them.\n",
    "# print(driver.find_element(By.XPATH,'//*[starts-with(@class=\"tablestyle__TableScroller\")]').text)\n",
    "\n"
   ],
   "id": "a0f2e485580918f0",
   "outputs": [],
   "execution_count": 31
  },
  {
   "metadata": {
    "ExecuteTime": {
     "end_time": "2025-04-12T01:47:11.318314Z",
     "start_time": "2025-04-12T01:47:11.313588Z"
    }
   },
   "cell_type": "code",
   "source": [
    "mystring = 'Detroit Tigers'\n",
    "rank_list.index(mystring) + 1"
   ],
   "id": "dc47bca85288ebf6",
   "outputs": [
    {
     "data": {
      "text/plain": [
       "9"
      ]
     },
     "execution_count": 57,
     "metadata": {},
     "output_type": "execute_result"
    }
   ],
   "execution_count": 57
  },
  {
   "metadata": {
    "ExecuteTime": {
     "end_time": "2025-04-12T01:47:55.970137Z",
     "start_time": "2025-04-12T01:47:55.846998Z"
    }
   },
   "cell_type": "code",
   "source": [
    "driver.close()\n",
    "driver.switch_to.window(driver.window_handles[0])\n"
   ],
   "id": "5ee4897ce158f090",
   "outputs": [],
   "execution_count": 58
  },
  {
   "metadata": {},
   "cell_type": "code",
   "outputs": [],
   "execution_count": null,
   "source": [
    "if (tomorrow_schedules[2].find_element(By.CLASS_NAME,\"Table__Title\").text == \"Sunday, April 13, 2025\"):\n",
    "    print(\"The table still not updated all results\")\n",
    "    print(tomorrow_schedules[2].text)"
   ],
   "id": "738eb39efe479bbf"
  },
  {
   "metadata": {
    "ExecuteTime": {
     "end_time": "2025-04-12T01:54:42.804867Z",
     "start_time": "2025-04-12T01:54:42.464673Z"
    }
   },
   "cell_type": "code",
   "source": [
    "\n",
    "driver.switch_to.new_window(\"new_tab\")\n",
    "driver.get('https://sportsbook.draftkings.com/leagues/baseball/mlb')\n",
    "\n",
    "# currently there is live matching, so, choose the table 2 for more exactly value\n",
    "odd_tables = driver.find_elements(By.CLASS_NAME,\"sportsbook-table\")\n",
    "if odd_tables.__len__() == 2:\n",
    "    print(\"Script can not run now, output flag to a file outside\")\n",
    "    odd_table = odd_tables[1]\n",
    "else:\n",
    "    odd_table = odd_tables[0]\n",
    "odd_rows = odd_table.find_elements(By.TAG_NAME,\"tr\")\n",
    "for odd_row in odd_rows:\n",
    "    print(odd_row.text)\n",
    "    # if odd_row.text.__contains__(\"Mitchell Parker\"):\n",
    "    #     print(odd_row.text)\n",
    "\n",
    "# driver.find_element(By.XPATH,'//table[contain(@class=\"sportsbook-table\")]')\n",
    "draftking_lists = list()\n",
    "draftking_list = list()\n",
    "\n",
    "for odd_row in odd_rows:\n",
    "    if (odd_row.text.__contains__(\"TOMORROW\") == False):\n",
    "        team_name = odd_row.find_element(By.TAG_NAME,\"th\").text.split(\"\\n\")[0]\n",
    "        if team_name.__contains__(\"AM\") or team_name.__contains__(\"PM\"):\n",
    "            team_name = odd_row.find_element(By.TAG_NAME,\"th\").text.split(\"\\n\")[1]\n",
    "        draftking_list.append(team_name)\n",
    "        print(team_name)\n",
    "        run_total_money = odd_row.find_elements(By.TAG_NAME,\"td\")\n",
    "        draftking_list.append(run_total_money[0].text)\n",
    "        draftking_list.append(run_total_money[1].text)\n",
    "        draftking_list.append(run_total_money[2].text)\n",
    "        draftking_lists.append(draftking_list.copy())\n",
    "        draftking_list.clear()\n",
    "print(draftking_lists)\n",
    "\n",
    "driver.close()\n",
    "driver.switch_to.window(driver.window_handles[0])\n"
   ],
   "id": "be706b971f778435",
   "outputs": [],
   "execution_count": 59
  },
  {
   "metadata": {
    "ExecuteTime": {
     "end_time": "2025-04-12T03:14:56.950631Z",
     "start_time": "2025-04-12T03:14:56.907164Z"
    }
   },
   "cell_type": "code",
   "outputs": [
    {
     "data": {
      "text/plain": [
       "True"
      ]
     },
     "execution_count": 98,
     "metadata": {},
     "output_type": "execute_result"
    }
   ],
   "execution_count": 98,
   "source": [
    "# need to return a list of list, in that, each sublist contain: the name (only name of grup), run , total, money\n",
    "odd_rows[0].text.__contains__(\"TOMORROW\")\n",
    "# for odd_row in odd_rows:\n",
    "#     print(odd_row.text)\n",
    "    # if odd_row.text.__contains__(\"Tigers\"):\n",
    "    #     run_total_money = odd_row.find_elements(By.TAG_NAME,\"td\")\n",
    "    #     print(run_total_money[1].text)\n",
    "        # run_total_money[1].text.replace('O\\n','O')"
   ],
   "id": "ae33342a4fc73eea"
  }
 ],
 "metadata": {
  "kernelspec": {
   "display_name": "Python 3",
   "language": "python",
   "name": "python3"
  },
  "language_info": {
   "codemirror_mode": {
    "name": "ipython",
    "version": 2
   },
   "file_extension": ".py",
   "mimetype": "text/x-python",
   "name": "python",
   "nbconvert_exporter": "python",
   "pygments_lexer": "ipython2",
   "version": "2.7.6"
  }
 },
 "nbformat": 4,
 "nbformat_minor": 5
}
