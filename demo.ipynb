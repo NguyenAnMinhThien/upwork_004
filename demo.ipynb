{
 "cells": [
  {
   "cell_type": "code",
   "id": "initial_id",
   "metadata": {
    "collapsed": true,
    "ExecuteTime": {
     "end_time": "2025-04-11T07:05:19.121640Z",
     "start_time": "2025-04-11T07:05:18.530084Z"
    }
   },
   "source": [
    "import datetime\n",
    "import subprocess\n",
    "import pandas\n",
    "import time\n",
    "from selenium.webdriver.common.by import By\n",
    "from selenium.webdriver.support.ui import WebDriverWait\n",
    "from selenium.webdriver.support import expected_conditions as EC\n",
    "from undetected_chromedriver import ChromeOptions\n",
    "import undetected_chromedriver as uc\n"
   ],
   "outputs": [],
   "execution_count": 1
  },
  {
   "metadata": {},
   "cell_type": "code",
   "source": "",
   "id": "223e54b111507bc8",
   "outputs": [],
   "execution_count": null
  },
  {
   "metadata": {
    "jupyter": {
     "is_executing": true
    }
   },
   "cell_type": "code",
   "source": [
    "url_espn = 'https://www.espn.com/mlb/schedule/_/date/'\n",
    "\n",
    "current = datetime.datetime.now()\n",
    "current_date = current.strftime(\"%Y\") + current.strftime(\"%m\") + current.strftime(\"%d\")\n",
    "tomorrow_date =  current.strftime(\"%Y\") + current.strftime(\"%m\") +str(int(current.strftime(\"%d\"))+1)\n",
    "current_espn = url_espn + current_date\n",
    "tomorrow_espn= url_espn + tomorrow_date\n",
    "# options = ChromeOptions()\n",
    "# options.add_argument('--incognito')\n",
    "# driver = uc.Chrome(options)\n",
    "driver = uc.Chrome()\n",
    "driver.get(current_espn)\n"
   ],
   "id": "d171a0b596b77dd9",
   "outputs": [],
   "execution_count": null
  },
  {
   "metadata": {
    "ExecuteTime": {
     "end_time": "2025-04-11T03:36:21.400254Z",
     "start_time": "2025-04-11T03:36:21.312138Z"
    }
   },
   "cell_type": "code",
   "source": [
    "tomorrow_schedule = driver.find_element(By.CLASS_NAME,\"ResponsiveTable\")\n",
    "tomorrow_schedules = driver.find_elements(By.CLASS_NAME,\"ResponsiveTable\")\n",
    "tomorrow_schedule.text"
   ],
   "id": "76aa5cd5933a9ca7",
   "outputs": [
    {
     "data": {
      "text/plain": [
       "'Friday, April 11, 2025\\nMATCHUP\\nTIME\\nTV\\nPITCHING MATCHUP\\nTICKETS\\nODDS BY\\nPhiladelphia\\n  @  \\nAtlanta\\nLIVE\\nJesus Luzardo vs Spencer Schwellenbach'"
      ]
     },
     "execution_count": 22,
     "metadata": {},
     "output_type": "execute_result"
    }
   ],
   "execution_count": 22
  },
  {
   "metadata": {},
   "cell_type": "code",
   "source": [
    "# this script will run at the end of the day, after the result of this day has updated, there is no LIVE table row\n",
    "# not finished: find the table contain schedule for tommorow\n",
    "for inx in range(tomorrow_schedules.__len__()):\n",
    "    print(f\"\\nnew {inx}\\n\")\n",
    "    # print(tomorrow_schedules[inx].text)\n",
    "    print(tomorrow_schedules[inx].find_element(By.XPATH,'//div[contain(@class,\"Table__Title\")]'))"
   ],
   "id": "a92c963a351e12d7",
   "outputs": [],
   "execution_count": null
  },
  {
   "metadata": {
    "ExecuteTime": {
     "end_time": "2025-04-11T03:37:15.145183Z",
     "start_time": "2025-04-11T03:37:14.993136Z"
    }
   },
   "cell_type": "code",
   "source": "tomorrow_schedules[2].text",
   "id": "738eb39efe479bbf",
   "outputs": [
    {
     "data": {
      "text/plain": [
       "'Saturday, April 12, 2025\\nMATCHUP\\nTIME\\nTV\\nPITCHING MATCHUP\\nTICKETS\\nODDS BY\\nKansas City\\n  @  \\nCleveland\\n5:10 AM\\nKris Bubic vs Tanner Bibee\\nTickets as low as $8\\nLine: CLE -145\\nO/U: 6.5\\nPittsburgh\\n  @  \\nCincinnati\\n5:40 AM\\nApple TV+\\nBailey Falter vs Brady Singer\\nTickets as low as $7\\nLine: CIN -160\\nO/U: 8.5\\nAtlanta\\n  @  \\nTampa Bay\\n6:05 AM\\nBryce Elder vs Taj Bradley\\nTickets as low as $8\\nLine: TB -120\\nO/U: 8.5\\nSan Francisco\\n  @  \\nNew York\\n6:05 AM\\nRobbie Ray vs Marcus Stroman\\nTickets as low as $4\\nLine: NYY -130\\nO/U: 8.5\\nToronto\\n  @  \\nBaltimore\\n6:05 AM\\nBowden Francis vs Tomoyuki Sugano\\nTickets as low as $7\\nLine: BAL -120\\nO/U: 8.5\\nWashington\\n  @  \\nMiami\\n6:10 AM\\nMitchell Parker vs Cal Quantrill\\nTickets as low as $7\\nLine: WSH -125\\nO/U: 8.5\\nBoston\\n  @  \\nChicago\\n6:40 AM\\nSean Newcomb vs Davis Martin\\nTickets as low as $8\\nLine: BOS -175\\nO/U: 7.5\\nLos Angeles\\n  @  \\nHouston\\n7:10 AM\\nJack Kochanowicz vs Ronel Blanco\\nTickets as low as $22\\nLine: HOU -150\\nO/U: 8.5\\nDetroit\\n  @  \\nMinnesota\\n7:10 AM\\nApple TV+\\nReese Olson vs David Festa\\nTickets as low as $8\\nLine: MIN -115\\nO/U: 7.5\\nPhiladelphia\\n  @  \\nSt. Louis\\n7:15 AM\\nAaron Nola vs Andre Pallante\\nTickets as low as $18\\nLine: PHI -135\\nO/U: 7.5\\nColorado\\n  @  \\nSan Diego\\n8:40 AM\\nGerman Marquez vs Nick Pivetta\\nTickets as low as $33\\nLine: SD -210\\nO/U: 7.5\\nMilwaukee\\n  @  \\nArizona\\n8:40 AM\\nUndecided vs Eduardo Rodriguez\\nTickets as low as $23\\nTexas\\n  @  \\nSeattle\\n8:40 AM\\nJacob deGrom vs Bryce Miller\\nTickets as low as $14\\nLine: TEX -130\\nO/U: 6.5\\nNew York\\n  @  \\nAthletics\\n9:05 AM\\nGriffin Canning vs JP Sears\\nLine: NYM -135\\nO/U: 9.5\\nChicago\\n  @  \\nLos Angeles\\n9:10 AM\\nMatthew Boyd vs Yoshinobu Yamamoto\\nTickets as low as $123\\nLine: LAD -200\\nO/U: 7.5'"
      ]
     },
     "execution_count": 24,
     "metadata": {},
     "output_type": "execute_result"
    }
   ],
   "execution_count": 24
  },
  {
   "metadata": {},
   "cell_type": "code",
   "source": [
    "table = tomorrow_schedules[2].find_element(By.TAG_NAME,\"table\").find_element(By.TAG_NAME,\"tbody\")\n",
    "matchups = table.find_elements(By.TAG_NAME,\"tr\")\n",
    "for tr in matchups:\n",
    "    print(\"\\n\",tr.text,\"\\n\")\n"
   ],
   "id": "bb936a456ce95d0d",
   "outputs": [],
   "execution_count": null
  },
  {
   "metadata": {
    "ExecuteTime": {
     "end_time": "2025-04-11T04:02:53.291105Z",
     "start_time": "2025-04-11T04:02:53.281448Z"
    }
   },
   "cell_type": "code",
   "source": [
    "df = pandas.DataFrame(columns=[\n",
    "    'Date','Time','Team 1','Team 1 Rank','Team 1 Win Prob','Team 1 Run Line','Team 1 Run Line Odds','Team 1 Moneyline Odds','Team 2','Team 2 Rank','Team 2 Win Prob','Team 2 Run Line','Team 2 Run Line Odds','Team 2 Moneyline Odds','Total Over','Total Over Odds','Total Under','Total Under Odds','Team 1 Score','Team 2 Score'\n",
    "])\n",
    "\n"
   ],
   "id": "be5115c1353d9f0c",
   "outputs": [],
   "execution_count": 32
  },
  {
   "metadata": {
    "ExecuteTime": {
     "end_time": "2025-04-11T04:03:23.527761Z",
     "start_time": "2025-04-11T04:03:23.516072Z"
    }
   },
   "cell_type": "code",
   "source": "df['Time'] = \"12AM\"\n",
   "id": "71d08e6a72f7f66",
   "outputs": [],
   "execution_count": 33
  },
  {
   "metadata": {
    "ExecuteTime": {
     "end_time": "2025-04-11T03:57:15.598191Z",
     "start_time": "2025-04-11T03:57:15.576941Z"
    }
   },
   "cell_type": "code",
   "outputs": [],
   "execution_count": 30,
   "source": [
    "\n",
    "# Create a column\n",
    "data = ['Team1 name','Team2 name', '12AM']\n",
    "# pandas.concat(df,data,ignore_index=True)\n"
   ],
   "id": "2fcbab28bb15fc15"
  },
  {
   "metadata": {
    "ExecuteTime": {
     "end_time": "2025-04-11T03:57:57.053814Z",
     "start_time": "2025-04-11T03:57:57.030040Z"
    }
   },
   "cell_type": "code",
   "source": [
    "print(df)\n",
    "df['Team1'] = 'hehe'\n",
    "print(\"\\n\",df)"
   ],
   "id": "d9136bb2286e5ea8",
   "outputs": [
    {
     "name": "stdout",
     "output_type": "stream",
     "text": [
      "Empty DataFrame\n",
      "Columns: [(Team1, Team2, Time)]\n",
      "Index: []\n",
      "\n",
      " Empty DataFrame\n",
      "Columns: [(Team1, Team2, Time)]\n",
      "Index: []\n"
     ]
    }
   ],
   "execution_count": 31
  },
  {
   "metadata": {
    "ExecuteTime": {
     "end_time": "2025-04-11T03:43:48.284632Z",
     "start_time": "2025-04-11T03:43:48.257579Z"
    }
   },
   "cell_type": "code",
   "source": [
    "row_data = matchups[0].text.split(\"\\n\")\n",
    "result_espn = [row_data[0],row_data[2],row_data[3]]\n",
    "print(result_espn)"
   ],
   "id": "79192f3ea701b965",
   "outputs": [
    {
     "name": "stdout",
     "output_type": "stream",
     "text": [
      "['Kansas City', 'Cleveland', '5:10 AM']\n"
     ]
    }
   ],
   "execution_count": 29
  }
 ],
 "metadata": {
  "kernelspec": {
   "display_name": "Python 3",
   "language": "python",
   "name": "python3"
  },
  "language_info": {
   "codemirror_mode": {
    "name": "ipython",
    "version": 2
   },
   "file_extension": ".py",
   "mimetype": "text/x-python",
   "name": "python",
   "nbconvert_exporter": "python",
   "pygments_lexer": "ipython2",
   "version": "2.7.6"
  }
 },
 "nbformat": 4,
 "nbformat_minor": 5
}
