{
 "cells": [
  {
   "cell_type": "code",
   "id": "initial_id",
   "metadata": {
    "collapsed": true,
    "ExecuteTime": {
     "end_time": "2025-04-11T23:54:58.157252Z",
     "start_time": "2025-04-11T23:54:55.633367Z"
    }
   },
   "source": [
    "import datetime\n",
    "import subprocess\n",
    "import pandas\n",
    "import time\n",
    "from selenium.webdriver.common.by import By\n",
    "from selenium.webdriver.support.ui import WebDriverWait\n",
    "from selenium.webdriver.support import expected_conditions as EC\n",
    "from undetected_chromedriver import ChromeOptions\n",
    "import undetected_chromedriver as uc\n"
   ],
   "outputs": [],
   "execution_count": 1
  },
  {
   "metadata": {},
   "cell_type": "code",
   "source": "",
   "id": "223e54b111507bc8",
   "outputs": [],
   "execution_count": null
  },
  {
   "metadata": {
    "ExecuteTime": {
     "end_time": "2025-04-11T23:55:09.875149Z",
     "start_time": "2025-04-11T23:55:05.141222Z"
    }
   },
   "cell_type": "code",
   "source": [
    "url_espn = 'https://www.espn.com/mlb/schedule/_/date/'\n",
    "\n",
    "current = datetime.datetime.now()\n",
    "current_date = current.strftime(\"%Y\") + current.strftime(\"%m\") + current.strftime(\"%d\")\n",
    "tomorrow_date =  current.strftime(\"%Y\") + current.strftime(\"%m\") +str(int(current.strftime(\"%d\"))+1)\n",
    "current_espn = url_espn + current_date\n",
    "tomorrow_espn= url_espn + tomorrow_date\n",
    "# options = ChromeOptions()\n",
    "# options.add_argument('--incognito')\n",
    "# driver = uc.Chrome(options)\n",
    "driver = uc.Chrome()\n",
    "driver.get(current_espn)\n"
   ],
   "id": "d171a0b596b77dd9",
   "outputs": [],
   "execution_count": 2
  },
  {
   "metadata": {
    "ExecuteTime": {
     "end_time": "2025-04-12T00:05:58.428187Z",
     "start_time": "2025-04-12T00:05:58.290319Z"
    }
   },
   "cell_type": "code",
   "source": [
    "tomorrow_schedule = driver.find_element(By.CLASS_NAME,\"ResponsiveTable\")\n",
    "tomorrow_schedules = driver.find_elements(By.CLASS_NAME,\"ResponsiveTable\")\n",
    "tomorrow_schedule.text"
   ],
   "id": "76aa5cd5933a9ca7",
   "outputs": [
    {
     "data": {
      "text/plain": [
       "'Saturday, April 12, 2025\\nMATCHUP\\nTIME\\nTV\\nPITCHING MATCHUP\\nTICKETS\\nODDS BY\\nKansas City\\n  @  \\nCleveland\\nLIVE\\nKris Bubic vs Tanner Bibee\\nPittsburgh\\n  @  \\nCincinnati\\nLIVE\\nApple TV+\\nBailey Falter vs Brady Singer\\nAtlanta\\n  @  \\nTampa Bay\\nLIVE\\nBryce Elder vs Taj Bradley\\nSan Francisco\\n  @  \\nNew York\\nLIVE\\nRobbie Ray vs Marcus Stroman\\nWashington\\n  @  \\nMiami\\nLIVE\\nMitchell Parker vs Edward Cabrera\\nBoston\\n  @  \\nChicago\\nLIVE\\nSean Newcomb vs Davis Martin\\nLos Angeles\\n  @  \\nHouston\\n7:10 AM\\nJack Kochanowicz vs Ronel Blanco\\nTickets as low as $18\\nLine: HOU -145\\nO/U: 8.5\\nDetroit\\n  @  \\nMinnesota\\n7:10 AM\\nApple TV+\\nReese Olson vs David Festa\\nTickets as low as $7\\nLine: MIN -120\\nO/U: 7.5\\nPhiladelphia\\n  @  \\nSt. Louis\\n7:15 AM\\nAaron Nola vs Andre Pallante\\nTickets as low as $27\\nLine: PHI -115\\nO/U: 7.5\\nColorado\\n  @  \\nSan Diego\\n8:40 AM\\nGerman Marquez vs Nick Pivetta\\nTickets as low as $29\\nLine: SD -225\\nO/U: 7.5\\nMilwaukee\\n  @  \\nArizona\\n8:40 AM\\nJose Quintana vs Eduardo Rodriguez\\nTickets as low as $3\\nLine: ARI -160\\nO/U: 8.5\\nTexas\\n  @  \\nSeattle\\n8:40 AM\\nJacob deGrom vs Bryce Miller\\nTickets as low as $16\\nLine: TEX -125\\nO/U: 6.5\\nNew York\\n  @  \\nAthletics\\n9:05 AM\\nGriffin Canning vs JP Sears\\nLine: NYM -130\\nO/U: 9.5\\nChicago\\n  @  \\nLos Angeles\\n9:10 AM\\nMatthew Boyd vs Yoshinobu Yamamoto\\nTickets as low as $128\\nLine: LAD -180\\nO/U: 7.5'"
      ]
     },
     "execution_count": 7,
     "metadata": {},
     "output_type": "execute_result"
    }
   ],
   "execution_count": 7
  },
  {
   "metadata": {},
   "cell_type": "code",
   "source": [
    "# this script will run at the end of the day, after the result of this day has updated, there is no LIVE table row\n",
    "# not finished: find the table contain schedule for tommorow\n",
    "for inx in range(tomorrow_schedules.__len__()):\n",
    "    print(f\"\\nnew {inx}\\n\")\n",
    "    # print(tomorrow_schedules[inx].text)\n",
    "    print(tomorrow_schedules[inx].find_element(By.XPATH,'//div[contain(@class,\"Table__Title\")]'))"
   ],
   "id": "a92c963a351e12d7",
   "outputs": [],
   "execution_count": null
  },
  {
   "metadata": {},
   "cell_type": "code",
   "source": [
    "table = tomorrow_schedules[2].find_element(By.TAG_NAME,\"table\").find_element(By.TAG_NAME,\"tbody\")\n",
    "matchups = table.find_elements(By.TAG_NAME,\"tr\")\n",
    "for tr in matchups:\n",
    "    print(\"\\n\",tr.text,\"\\n\")\n"
   ],
   "id": "bb936a456ce95d0d",
   "outputs": [],
   "execution_count": null
  },
  {
   "metadata": {
    "ExecuteTime": {
     "end_time": "2025-04-12T00:19:44.229913Z",
     "start_time": "2025-04-12T00:19:44.170861Z"
    }
   },
   "cell_type": "code",
   "source": [
    "print(matchups[0].find_element(By.CLASS_NAME,\"date__col\").text)\n",
    "print(matchups[0].find_element(By.CLASS_NAME,\"date__col\").find_element(By.TAG_NAME,\"a\").get_attribute(\"href\"))"
   ],
   "id": "d1118bc43dde0c0e",
   "outputs": [
    {
     "name": "stdout",
     "output_type": "stream",
     "text": [
      "1:10 AM\n",
      "https://www.espn.com/mlb/game/_/gameId/401695121/tigers-twins\n"
     ]
    }
   ],
   "execution_count": 15
  },
  {
   "metadata": {
    "ExecuteTime": {
     "end_time": "2025-04-12T00:26:36.287315Z",
     "start_time": "2025-04-12T00:26:34.236749Z"
    }
   },
   "cell_type": "code",
   "source": [
    "driver.switch_to.new_window(\"new_tab\")\n",
    "driver.get('https://www.espn.com/mlb/game/_/gameId/401695121/tigers-twins')"
   ],
   "id": "2d7e586d8ee371af",
   "outputs": [],
   "execution_count": 16
  },
  {
   "metadata": {
    "ExecuteTime": {
     "end_time": "2025-04-12T00:31:17.861089Z",
     "start_time": "2025-04-12T00:31:17.850401Z"
    }
   },
   "cell_type": "code",
   "source": "driver.title",
   "id": "398bb55513a3299d",
   "outputs": [
    {
     "data": {
      "text/plain": [
       "'Tigers vs. Twins (Apr 12, 2025) Live Score - ESPN'"
      ]
     },
     "execution_count": 18,
     "metadata": {},
     "output_type": "execute_result"
    }
   ],
   "execution_count": 18
  },
  {
   "metadata": {
    "ExecuteTime": {
     "end_time": "2025-04-12T00:32:22.996399Z",
     "start_time": "2025-04-12T00:32:22.981116Z"
    }
   },
   "cell_type": "code",
   "source": "driver.find_element(By.CLASS_NAME,\"PageLayout__Main\")",
   "id": "f60cd689eca1c37e",
   "outputs": [
    {
     "data": {
      "text/plain": [
       "<undetected_chromedriver.webelement.WebElement (session=\"8db7bf03747fdc462b42411b89a56156\", element=\"f.2E7DD18751F0BBB4BAD3858F23BD57E1.d.1A5F94F707F05EDA3DD719CBD2E40DFD.e.2387\")>"
      ]
     },
     "execution_count": 19,
     "metadata": {},
     "output_type": "execute_result"
    }
   ],
   "execution_count": 19
  },
  {
   "metadata": {
    "ExecuteTime": {
     "end_time": "2025-04-12T00:43:04.195723Z",
     "start_time": "2025-04-12T00:43:04.143823Z"
    }
   },
   "cell_type": "code",
   "source": [
    "\n",
    "\n",
    "espn_new = driver.find_element(By.CLASS_NAME,\"PageLayout__Main\").find_element(By.TAG_NAME,\"section\").text.split(\"\\n\")\n",
    " # .find_element(By.XPATH,'//section[contain(@data-testid1,\"prism-LayoutCard\")]'))\n"
   ],
   "id": "3dbee169991acb1c",
   "outputs": [],
   "execution_count": 25
  },
  {
   "metadata": {
    "ExecuteTime": {
     "end_time": "2025-04-12T00:51:11.388087Z",
     "start_time": "2025-04-12T00:51:11.384294Z"
    }
   },
   "cell_type": "code",
   "source": [
    "import re\n",
    "series = [2,7,8,16,17]\n",
    "espn_final = list()\n",
    "for serie in series:\n",
    "    # print(.rstrip(\"(.*\"))\n",
    "    espn_final.append(re.sub('\\(.*\\)','',espn_new[serie]))"
   ],
   "id": "ec1fec3d06b3b4ae",
   "outputs": [],
   "execution_count": 29
  },
  {
   "metadata": {
    "ExecuteTime": {
     "end_time": "2025-04-12T00:51:33.272566Z",
     "start_time": "2025-04-12T00:51:33.111855Z"
    }
   },
   "cell_type": "code",
   "source": [
    "print(espn_final)\n",
    "driver.close()\n",
    "driver.switch_to.window(driver.window_handles[0])"
   ],
   "id": "999b68ed3156c76",
   "outputs": [
    {
     "name": "stdout",
     "output_type": "stream",
     "text": [
      "['1:10 AM', 'Detroit Tigers ', 'Jackson Jobe ', 'Minnesota Twins ', 'Chris Paddack ']\n"
     ]
    }
   ],
   "execution_count": 30
  },
  {
   "metadata": {
    "ExecuteTime": {
     "end_time": "2025-04-12T00:54:37.797316Z",
     "start_time": "2025-04-12T00:54:36.911910Z"
    }
   },
   "cell_type": "code",
   "source": [
    "\n",
    "driver.switch_to.new_window(\"new_tab\")\n",
    "driver.get('https://www.mlb.com/standings/mlb')\n"
   ],
   "id": "a0f2e485580918f0",
   "outputs": [],
   "execution_count": 31
  },
  {
   "metadata": {
    "ExecuteTime": {
     "end_time": "2025-04-12T01:15:49.075786Z",
     "start_time": "2025-04-12T01:15:49.064502Z"
    }
   },
   "cell_type": "code",
   "source": "driver.title",
   "id": "8711846baf684b28",
   "outputs": [
    {
     "data": {
      "text/plain": [
       "'2025 MLB Standings and Records: Regular Season | MLB.com'"
      ]
     },
     "execution_count": 38,
     "metadata": {},
     "output_type": "execute_result"
    }
   ],
   "execution_count": 38
  },
  {
   "metadata": {
    "ExecuteTime": {
     "end_time": "2025-04-12T01:36:40.333478Z",
     "start_time": "2025-04-12T01:36:40.167060Z"
    }
   },
   "cell_type": "code",
   "source": [
    "\n",
    "# print(driver.find_element(By.CLASS_NAME,\"tablestyle__TableScroller-sc-wsl6eq-1\").text)\n",
    "# print(driver.find_element(By.XPATH,'//div[class=\"tablestyle__TableScroller-sc-wsl6eq-1\"]').text)\n",
    "rank_data = (driver.find_element(By.ID,\"standings-app-root\").text.split(\"\\n\"))\n",
    "toggle = 0\n",
    "rank_list = list()\n",
    "for rank_maybe in rank_data:\n",
    "    if rank_maybe.__contains__('TEAM W L PCT GB'):\n",
    "        print(\"start from here\")\n",
    "        toggle = 1\n",
    "        continue\n",
    "    if toggle == 1 and (re.search(\"\\d\",rank_maybe)) == None and rank_maybe.strip() != '':\n",
    "        rank_list.append(rank_maybe)\n",
    "\n",
    "print(rank_list)\n",
    "# return rank_list, with each specific team name, will get the rank for each of them.\n",
    "# print(driver.find_element(By.XPATH,'//*[starts-with(@class=\"tablestyle__TableScroller\")]').text)\n",
    "\n"
   ],
   "id": "a81c0c2638680fd2",
   "outputs": [
    {
     "name": "stdout",
     "output_type": "stream",
     "text": [
      "start from here\n",
      "['San Diego Padres', 'New York Mets', 'San Francisco Giants', 'Los Angeles Angels', 'Philadelphia Phillies', 'Los Angeles Dodgers', 'Texas Rangers', 'Chicago Cubs', 'Detroit Tigers', 'Toronto Blue Jays', 'Kansas City Royals', 'Milwaukee Brewers', 'New York Yankees', 'Arizona Diamondbacks', 'Boston Red Sox', 'Houston Astros', 'Miami Marlins', 'St. Louis Cardinals', 'Washington Nationals', 'Athletics', 'Baltimore Orioles', 'Cincinnati Reds', 'Cleveland Guardians', 'Tampa Bay Rays', 'Pittsburgh Pirates', 'Seattle Mariners', 'Minnesota Twins', 'Atlanta Braves', 'Chicago White Sox', 'Colorado Rockies']\n"
     ]
    }
   ],
   "execution_count": 55
  },
  {
   "metadata": {
    "ExecuteTime": {
     "end_time": "2025-04-12T01:47:11.318314Z",
     "start_time": "2025-04-12T01:47:11.313588Z"
    }
   },
   "cell_type": "code",
   "source": [
    "mystring = 'Detroit Tigers'\n",
    "rank_list.index(mystring) + 1"
   ],
   "id": "dc47bca85288ebf6",
   "outputs": [
    {
     "data": {
      "text/plain": [
       "9"
      ]
     },
     "execution_count": 57,
     "metadata": {},
     "output_type": "execute_result"
    }
   ],
   "execution_count": 57
  },
  {
   "metadata": {
    "ExecuteTime": {
     "end_time": "2025-04-12T01:47:55.970137Z",
     "start_time": "2025-04-12T01:47:55.846998Z"
    }
   },
   "cell_type": "code",
   "source": [
    "driver.close()\n",
    "driver.switch_to.window(driver.window_handles[0])\n"
   ],
   "id": "5ee4897ce158f090",
   "outputs": [],
   "execution_count": 58
  },
  {
   "metadata": {},
   "cell_type": "code",
   "outputs": [],
   "execution_count": null,
   "source": [
    "if (tomorrow_schedules[2].find_element(By.CLASS_NAME,\"Table__Title\").text == \"Sunday, April 13, 2025\"):\n",
    "    print(\"The table still not updated all results\")\n",
    "    print(tomorrow_schedules[2].text)"
   ],
   "id": "738eb39efe479bbf"
  },
  {
   "metadata": {
    "ExecuteTime": {
     "end_time": "2025-04-12T01:54:42.804867Z",
     "start_time": "2025-04-12T01:54:42.464673Z"
    }
   },
   "cell_type": "code",
   "source": [
    "\n",
    "driver.switch_to.new_window(\"new_tab\")\n",
    "driver.get('https://sportsbook.draftkings.com/leagues/baseball/mlb')\n"
   ],
   "id": "be706b971f778435",
   "outputs": [],
   "execution_count": 59
  },
  {
   "metadata": {},
   "cell_type": "code",
   "source": [
    "# currently there is live matching, so, choose the table 2 for more exactly value\n",
    "odd_tables = driver.find_elements(By.CLASS_NAME,\"sportsbook-table\")\n",
    "if odd_tables.__len__() == 2:\n",
    "    print(\"Script can not run now, output flag to a file outside\")\n",
    "odd_table = odd_tables[1]\n",
    "odd_rows = odd_table.find_elements(By.TAG_NAME,\"tr\")\n",
    "for odd_row in odd_rows:\n",
    "    print(odd_row.text)\n",
    "    # if odd_row.text.__contains__(\"Mitchell Parker\"):\n",
    "    #     print(odd_row.text)\n",
    "\n",
    "# driver.find_element(By.XPATH,'//table[contain(@class=\"sportsbook-table\")]')"
   ],
   "id": "6f4d499c1261d3a",
   "outputs": [],
   "execution_count": null
  },
  {
   "metadata": {
    "ExecuteTime": {
     "end_time": "2025-04-12T03:21:35.001446Z",
     "start_time": "2025-04-12T03:21:32.274088Z"
    }
   },
   "cell_type": "code",
   "source": [
    "draftking_lists = list()\n",
    "draftking_list = list()\n",
    "\n",
    "for odd_row in odd_rows:\n",
    "    if (odd_row.text.__contains__(\"TOMORROW\") == False):\n",
    "        team_name = odd_row.find_element(By.TAG_NAME,\"th\").text.split(\"\\n\")[0]\n",
    "        if team_name.__contains__(\"AM\") or team_name.__contains__(\"PM\"):\n",
    "            team_name = odd_row.find_element(By.TAG_NAME,\"th\").text.split(\"\\n\")[1]\n",
    "        draftking_list.append(team_name)\n",
    "        print(team_name)\n",
    "        run_total_money = odd_row.find_elements(By.TAG_NAME,\"td\")\n",
    "        draftking_list.append(run_total_money[0].text)\n",
    "        draftking_list.append(run_total_money[1].text)\n",
    "        draftking_list.append(run_total_money[2].text)\n",
    "        draftking_lists.append(draftking_list.copy())\n",
    "        draftking_list.clear()\n",
    "print(draftking_lists)\n"
   ],
   "id": "e97c6a1aa61b949c",
   "outputs": [
    {
     "name": "stdout",
     "output_type": "stream",
     "text": [
      "TOR Blue Jays\n",
      "BAL Orioles\n",
      "DET Tigers\n",
      "MIN Twins\n",
      "PHI Phillies\n",
      "STL Cardinals\n",
      "SF Giants\n",
      "NY Yankees\n",
      "BOS Red Sox\n",
      "CHI White Sox\n",
      "WAS Nationals\n",
      "MIA Marlins\n",
      "ATL Braves\n",
      "TB Rays\n",
      "KC Royals\n",
      "CLE Guardians\n",
      "LA Angels\n",
      "HOU Astros\n",
      "MIL Brewers\n",
      "ARI Diamondbacks\n",
      "CHI Cubs\n",
      "LA Dodgers\n",
      "TEX Rangers\n",
      "SEA Mariners\n",
      "[['TOR Blue Jays', '', 'O\\n 8.5\\n+100', '+105'], ['BAL Orioles', '', 'U\\n 8.5\\n−120', '−125'], ['DET Tigers', '-1.5\\n+154', 'O\\n 8.5\\n−108', '−105'], ['MIN Twins', '+1.5\\n−185', 'U\\n 8.5\\n−112', '−115'], ['PHI Phillies', '-1.5\\n+114', 'O\\n 8\\n+100', '−148'], ['STL Cardinals', '+1.5\\n−135', 'U\\n 8\\n−120', '+124'], ['SF Giants', '+1.5\\n−185', 'O\\n 8\\n−110', '+114'], ['NY Yankees', '-1.5\\n+154', 'U\\n 8\\n−110', '−135'], ['BOS Red Sox', '-1.5\\n+110', 'O\\n 7.5\\n−115', '−162'], ['CHI White Sox', '+1.5\\n−130', 'U\\n 7.5\\n−105', '+136'], ['WAS Nationals', '+1.5\\n−175', 'O\\n 7.5\\n−112', '+124'], ['MIA Marlins', '-1.5\\n+145', 'U\\n 7.5\\n−108', '−148'], ['ATL Braves', '+1.5\\n−175', 'O\\n 8.5\\n−120', '+120'], ['TB Rays', '-1.5\\n+145', 'U\\n 8.5\\n+100', '−142'], ['KC Royals', '-1.5\\n+164', 'O\\n 7.5\\n−118', '+100'], ['CLE Guardians', '+1.5\\n−198', 'U\\n 7.5\\n−102', '−120'], ['LA Angels', '+1.5\\n−170', 'O\\n 9\\n+102', '+124'], ['HOU Astros', '-1.5\\n+142', 'U\\n 9\\n−122', '−148'], ['MIL Brewers', '+1.5\\n−142', 'O\\n 9\\n−105', '+150'], ['ARI Diamondbacks', '-1.5\\n+120', 'U\\n 9\\n−115', '−180'], ['CHI Cubs', '+1.5\\n−142', 'O\\n 8.5\\n−120', '+150'], ['LA Dodgers', '-1.5\\n+120', 'U\\n 8.5\\n+100', '−180'], ['TEX Rangers', '+1.5\\n−192', 'O\\n 7\\n−110', '+120'], ['SEA Mariners', '-1.5\\n+160', 'U\\n 7\\n−110', '−142']]\n"
     ]
    }
   ],
   "execution_count": 102
  },
  {
   "metadata": {
    "ExecuteTime": {
     "end_time": "2025-04-12T03:14:56.950631Z",
     "start_time": "2025-04-12T03:14:56.907164Z"
    }
   },
   "cell_type": "code",
   "source": [
    "# need to return a list of list, in that, each sublist contain: the name (only name of grup), run , total, money\n",
    "odd_rows[0].text.__contains__(\"TOMORROW\")\n",
    "# for odd_row in odd_rows:\n",
    "#     print(odd_row.text)\n",
    "    # if odd_row.text.__contains__(\"Tigers\"):\n",
    "    #     run_total_money = odd_row.find_elements(By.TAG_NAME,\"td\")\n",
    "    #     print(run_total_money[1].text)\n",
    "        # run_total_money[1].text.replace('O\\n','O')"
   ],
   "id": "ae33342a4fc73eea",
   "outputs": [
    {
     "data": {
      "text/plain": [
       "True"
      ]
     },
     "execution_count": 98,
     "metadata": {},
     "output_type": "execute_result"
    }
   ],
   "execution_count": 98
  }
 ],
 "metadata": {
  "kernelspec": {
   "display_name": "Python 3",
   "language": "python",
   "name": "python3"
  },
  "language_info": {
   "codemirror_mode": {
    "name": "ipython",
    "version": 2
   },
   "file_extension": ".py",
   "mimetype": "text/x-python",
   "name": "python",
   "nbconvert_exporter": "python",
   "pygments_lexer": "ipython2",
   "version": "2.7.6"
  }
 },
 "nbformat": 4,
 "nbformat_minor": 5
}
